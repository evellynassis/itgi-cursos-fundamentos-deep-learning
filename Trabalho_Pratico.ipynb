{
  "nbformat": 4,
  "nbformat_minor": 0,
  "metadata": {
    "colab": {
      "name": "Trabalho_Pratico.ipynb",
      "provenance": [],
      "collapsed_sections": []
    },
    "kernelspec": {
      "name": "python3",
      "display_name": "Python 3"
    },
    "language_info": {
      "name": "python"
    },
    "accelerator": "GPU"
  },
  "cells": [
    {
      "cell_type": "code",
      "metadata": {
        "id": "re7eXyD02xod"
      },
      "source": [
        "import numpy"
      ],
      "execution_count": 73,
      "outputs": []
    },
    {
      "cell_type": "code",
      "metadata": {
        "id": "6VJziFau4irM"
      },
      "source": [
        "from keras.datasets import mnist\n",
        "from keras.models import Sequential\n",
        "from keras.layers import Dense\n",
        "from keras.layers import Dropout\n",
        "from keras.utils import np_utils"
      ],
      "execution_count": 74,
      "outputs": []
    },
    {
      "cell_type": "code",
      "metadata": {
        "id": "BVNIMEI24nBS"
      },
      "source": [
        "(X_train, y_train), (X_test, y_test) = mnist.load_data()"
      ],
      "execution_count": 75,
      "outputs": []
    },
    {
      "cell_type": "code",
      "metadata": {
        "id": "zKMvolIE4n-H"
      },
      "source": [
        "num_pixels = X_train.shape[1] * X_train.shape[2]\n",
        "X_train2 = X_train.reshape(X_train.shape[0], num_pixels).astype('float32')\n",
        "X_test2 = X_test.reshape(X_test.shape[0], num_pixels).astype('float32')\n",
        "X_train2 = X_train2 / 255\n",
        "X_test2 = X_test2 / 255"
      ],
      "execution_count": 76,
      "outputs": []
    },
    {
      "cell_type": "code",
      "metadata": {
        "id": "PlhxF_Bi4uCn"
      },
      "source": [
        "y_train = np_utils.to_categorical(y_train)"
      ],
      "execution_count": 77,
      "outputs": []
    },
    {
      "cell_type": "code",
      "metadata": {
        "id": "TucHjLHn4w3p"
      },
      "source": [
        "y_test = np_utils.to_categorical(y_test)\n",
        "num_classes = y_test.shape[1]"
      ],
      "execution_count": 78,
      "outputs": []
    },
    {
      "cell_type": "code",
      "metadata": {
        "id": "7OprMd2x41Na"
      },
      "source": [
        "model = Sequential()\n",
        "model.add(Dense(num_pixels, input_dim=num_pixels, kernel_initializer='normal',\n",
        "activation='relu'))\n",
        "model.add(Dense(num_classes, kernel_initializer='normal', activation='softmax'))"
      ],
      "execution_count": 79,
      "outputs": []
    },
    {
      "cell_type": "code",
      "metadata": {
        "colab": {
          "base_uri": "https://localhost:8080/"
        },
        "id": "nnFuK1Md44-w",
        "outputId": "35e1c02f-3d57-4c5b-c08b-c775599fd0d7"
      },
      "source": [
        "model.compile(loss='categorical_crossentropy', optimizer='adam', metrics=['accuracy'])\n",
        "model.fit(X_train2, y_train, validation_data=(X_test2, y_test), epochs=20, batch_size=200,\n",
        "verbose=2)\n",
        "#history = model.fit(X_train2, y_train, validation_data=(X_test2, y_test), epochs=15, batch_size=100, verbose=2)\n",
        "scores = model.evaluate(X_test2, y_test, verbose=0)\n",
        "print(\"%s: %.2f%%\" % (model.metrics_names[1], scores[1]*100))"
      ],
      "execution_count": 80,
      "outputs": [
        {
          "output_type": "stream",
          "text": [
            "Epoch 1/20\n",
            "300/300 - 1s - loss: 0.2788 - accuracy: 0.9213 - val_loss: 0.1370 - val_accuracy: 0.9599\n",
            "Epoch 2/20\n",
            "300/300 - 1s - loss: 0.1120 - accuracy: 0.9675 - val_loss: 0.0941 - val_accuracy: 0.9725\n",
            "Epoch 3/20\n",
            "300/300 - 1s - loss: 0.0713 - accuracy: 0.9796 - val_loss: 0.0859 - val_accuracy: 0.9719\n",
            "Epoch 4/20\n",
            "300/300 - 1s - loss: 0.0501 - accuracy: 0.9853 - val_loss: 0.0707 - val_accuracy: 0.9771\n",
            "Epoch 5/20\n",
            "300/300 - 1s - loss: 0.0363 - accuracy: 0.9898 - val_loss: 0.0634 - val_accuracy: 0.9802\n",
            "Epoch 6/20\n",
            "300/300 - 1s - loss: 0.0256 - accuracy: 0.9932 - val_loss: 0.0679 - val_accuracy: 0.9770\n",
            "Epoch 7/20\n",
            "300/300 - 1s - loss: 0.0198 - accuracy: 0.9950 - val_loss: 0.0629 - val_accuracy: 0.9792\n",
            "Epoch 8/20\n",
            "300/300 - 1s - loss: 0.0150 - accuracy: 0.9963 - val_loss: 0.0586 - val_accuracy: 0.9822\n",
            "Epoch 9/20\n",
            "300/300 - 1s - loss: 0.0107 - accuracy: 0.9979 - val_loss: 0.0623 - val_accuracy: 0.9811\n",
            "Epoch 10/20\n",
            "300/300 - 1s - loss: 0.0078 - accuracy: 0.9987 - val_loss: 0.0613 - val_accuracy: 0.9812\n",
            "Epoch 11/20\n",
            "300/300 - 1s - loss: 0.0058 - accuracy: 0.9990 - val_loss: 0.0651 - val_accuracy: 0.9817\n",
            "Epoch 12/20\n",
            "300/300 - 1s - loss: 0.0052 - accuracy: 0.9991 - val_loss: 0.0632 - val_accuracy: 0.9812\n",
            "Epoch 13/20\n",
            "300/300 - 1s - loss: 0.0049 - accuracy: 0.9991 - val_loss: 0.0668 - val_accuracy: 0.9808\n",
            "Epoch 14/20\n",
            "300/300 - 1s - loss: 0.0036 - accuracy: 0.9995 - val_loss: 0.0645 - val_accuracy: 0.9810\n",
            "Epoch 15/20\n",
            "300/300 - 1s - loss: 0.0027 - accuracy: 0.9997 - val_loss: 0.0730 - val_accuracy: 0.9797\n",
            "Epoch 16/20\n",
            "300/300 - 1s - loss: 0.0028 - accuracy: 0.9996 - val_loss: 0.0702 - val_accuracy: 0.9816\n",
            "Epoch 17/20\n",
            "300/300 - 1s - loss: 0.0075 - accuracy: 0.9979 - val_loss: 0.0931 - val_accuracy: 0.9742\n",
            "Epoch 18/20\n",
            "300/300 - 1s - loss: 0.0093 - accuracy: 0.9970 - val_loss: 0.0742 - val_accuracy: 0.9807\n",
            "Epoch 19/20\n",
            "300/300 - 1s - loss: 0.0024 - accuracy: 0.9996 - val_loss: 0.0654 - val_accuracy: 0.9830\n",
            "Epoch 20/20\n",
            "300/300 - 1s - loss: 6.3961e-04 - accuracy: 1.0000 - val_loss: 0.0654 - val_accuracy: 0.9841\n",
            "accuracy: 98.41%\n"
          ],
          "name": "stdout"
        }
      ]
    },
    {
      "cell_type": "code",
      "metadata": {
        "id": "oM8aFDs9wvRH"
      },
      "source": [
        "import matplotlib.pyplot as plt"
      ],
      "execution_count": 81,
      "outputs": []
    },
    {
      "cell_type": "code",
      "metadata": {
        "id": "QFoqWv3ZwxPl"
      },
      "source": [
        "# summarize history for accuracy - descomentar a linha #history =\n",
        "#plt.plot(history.history['accuracy'])\n",
        "#plt.plot(history.history['val_accuracy'])\n",
        "#plt.title('model accuracy')\n",
        "#plt.ylabel('accuracy')\n",
        "#plt.xlabel('epoch')\n",
        "#plt.legend(['train', 'test'], loc='upper left')\n",
        "#plt.show()"
      ],
      "execution_count": 82,
      "outputs": []
    },
    {
      "cell_type": "code",
      "metadata": {
        "id": "2D672p-Tw9e3"
      },
      "source": [
        "# summarize history for loss  - descomentar a linha #history =\n",
        "#plt.plot(history.history['loss'])\n",
        "#plt.plot(history.history['val_loss'])\n",
        "#plt.title('model loss')\n",
        "#plt.ylabel('loss')\n",
        "#plt.xlabel('epoch')\n",
        "#plt.legend(['train', 'test'], loc='upper left')\n",
        "#plt.show()"
      ],
      "execution_count": 83,
      "outputs": []
    },
    {
      "cell_type": "code",
      "metadata": {
        "id": "q5clrIwz48hV"
      },
      "source": [
        "import numpy\n",
        "from keras.datasets import mnist\n",
        "from keras.models import Sequential\n",
        "from keras.layers import Dense\n",
        "from keras.layers import Dropout\n",
        "from keras.layers import Flatten\n",
        "from keras.layers.convolutional import Conv2D\n",
        "from keras.layers.convolutional import MaxPooling2D\n",
        "from keras.utils import np_utils"
      ],
      "execution_count": 84,
      "outputs": []
    },
    {
      "cell_type": "code",
      "metadata": {
        "id": "zWxKRvQI4_sM"
      },
      "source": [
        "(X_train, y_train), (X_test, y_test) = mnist.load_data()\n",
        "X_train2 = X_train.reshape(X_train.shape[0], 1, 28, 28).astype('float32')\n",
        "X_test2 = X_test.reshape(X_test.shape[0], 1, 28, 28).astype('float32')\n",
        "X_train2 = X_train2 / 255\n",
        "X_test2 = X_test2 / 255\n",
        "# one hot encode outputs\n",
        "y_train = np_utils.to_categorical(y_train)\n",
        "y_test = np_utils.to_categorical(y_test)\n",
        "num_classes = y_test.shape[1]"
      ],
      "execution_count": 85,
      "outputs": []
    },
    {
      "cell_type": "code",
      "metadata": {
        "id": "umNB4x3Q5Dt6"
      },
      "source": [
        "model = Sequential()\n",
        "model.add(Conv2D(32, (5, 5), input_shape=(1, 28, 28), activation='relu',\n",
        "data_format='channels_first'))\n",
        "model.add(MaxPooling2D(pool_size=(2, 2)))\n",
        "model.add(Dropout(0.2))\n",
        "model.add(Flatten())\n",
        "model.add(Dense(128, activation='relu'))\n",
        "model.add(Dense(num_classes, activation='softmax'))"
      ],
      "execution_count": 86,
      "outputs": []
    },
    {
      "cell_type": "code",
      "metadata": {
        "id": "RhvNgSupv7o1"
      },
      "source": [
        "#model = Sequential()\n",
        "#model.add(Dense(30, activation=\"relu\", input_shape=(resolucao_total,)))\n",
        "#model.add(Dropout(0.2))\n",
        "#model.add(Dense(20, activation='relu'))\n",
        "#model.add(Dropout(0.2))\n",
        "#model.add(Dense(quantidade_valores_unicos, activation='softmax'))\n",
        "#model.summary()"
      ],
      "execution_count": 87,
      "outputs": []
    },
    {
      "cell_type": "code",
      "metadata": {
        "colab": {
          "base_uri": "https://localhost:8080/"
        },
        "id": "jpj_tstC5Hfp",
        "outputId": "eb55d3a4-b1ab-4074-e43d-49c3bf5a9358"
      },
      "source": [
        "model.compile(loss='categorical_crossentropy', optimizer='adam', metrics=['accuracy'])\n",
        "history = model.fit(X_train2, y_train, validation_data=(X_test2, y_test), epochs=20, batch_size=100,\n",
        "verbose=2)\n",
        "#model.fit(X_train2, y_train, validation_data=(X_test2, y_test), epochs=10, batch_size=200,\n",
        "#verbose=2)\n",
        "#batch_size = quantas amostras serão treinadas ao mesmo tempo.\n",
        "scores = model.evaluate(X_test2, y_test, verbose=0)\n",
        "print(\"%s: %.2f%%\" % (model.metrics_names[1], scores[1]*100))"
      ],
      "execution_count": 88,
      "outputs": [
        {
          "output_type": "stream",
          "text": [
            "Epoch 1/20\n",
            "600/600 - 2s - loss: 0.1824 - accuracy: 0.9469 - val_loss: 0.0619 - val_accuracy: 0.9800\n",
            "Epoch 2/20\n",
            "600/600 - 1s - loss: 0.0651 - accuracy: 0.9803 - val_loss: 0.0444 - val_accuracy: 0.9841\n",
            "Epoch 3/20\n",
            "600/600 - 1s - loss: 0.0457 - accuracy: 0.9857 - val_loss: 0.0370 - val_accuracy: 0.9879\n",
            "Epoch 4/20\n",
            "600/600 - 1s - loss: 0.0352 - accuracy: 0.9885 - val_loss: 0.0369 - val_accuracy: 0.9878\n",
            "Epoch 5/20\n",
            "600/600 - 1s - loss: 0.0276 - accuracy: 0.9908 - val_loss: 0.0345 - val_accuracy: 0.9889\n",
            "Epoch 6/20\n",
            "600/600 - 1s - loss: 0.0211 - accuracy: 0.9932 - val_loss: 0.0321 - val_accuracy: 0.9895\n",
            "Epoch 7/20\n",
            "600/600 - 1s - loss: 0.0172 - accuracy: 0.9943 - val_loss: 0.0347 - val_accuracy: 0.9894\n",
            "Epoch 8/20\n",
            "600/600 - 1s - loss: 0.0152 - accuracy: 0.9949 - val_loss: 0.0359 - val_accuracy: 0.9891\n",
            "Epoch 9/20\n",
            "600/600 - 1s - loss: 0.0124 - accuracy: 0.9956 - val_loss: 0.0378 - val_accuracy: 0.9887\n",
            "Epoch 10/20\n",
            "600/600 - 1s - loss: 0.0100 - accuracy: 0.9965 - val_loss: 0.0406 - val_accuracy: 0.9866\n",
            "Epoch 11/20\n",
            "600/600 - 1s - loss: 0.0095 - accuracy: 0.9970 - val_loss: 0.0464 - val_accuracy: 0.9883\n",
            "Epoch 12/20\n",
            "600/600 - 1s - loss: 0.0080 - accuracy: 0.9972 - val_loss: 0.0410 - val_accuracy: 0.9887\n",
            "Epoch 13/20\n",
            "600/600 - 1s - loss: 0.0077 - accuracy: 0.9972 - val_loss: 0.0427 - val_accuracy: 0.9895\n",
            "Epoch 14/20\n",
            "600/600 - 1s - loss: 0.0053 - accuracy: 0.9983 - val_loss: 0.0398 - val_accuracy: 0.9903\n",
            "Epoch 15/20\n",
            "600/600 - 1s - loss: 0.0067 - accuracy: 0.9978 - val_loss: 0.0704 - val_accuracy: 0.9842\n",
            "Epoch 16/20\n",
            "600/600 - 1s - loss: 0.0055 - accuracy: 0.9980 - val_loss: 0.0425 - val_accuracy: 0.9895\n",
            "Epoch 17/20\n",
            "600/600 - 1s - loss: 0.0056 - accuracy: 0.9980 - val_loss: 0.0460 - val_accuracy: 0.9891\n",
            "Epoch 18/20\n",
            "600/600 - 1s - loss: 0.0038 - accuracy: 0.9987 - val_loss: 0.0438 - val_accuracy: 0.9891\n",
            "Epoch 19/20\n",
            "600/600 - 1s - loss: 0.0054 - accuracy: 0.9981 - val_loss: 0.0539 - val_accuracy: 0.9886\n",
            "Epoch 20/20\n",
            "600/600 - 1s - loss: 0.0033 - accuracy: 0.9991 - val_loss: 0.0500 - val_accuracy: 0.9894\n",
            "accuracy: 98.94%\n"
          ],
          "name": "stdout"
        }
      ]
    },
    {
      "cell_type": "code",
      "metadata": {
        "id": "oQ8D4dGM_mh5",
        "colab": {
          "base_uri": "https://localhost:8080/",
          "height": 295
        },
        "outputId": "f78ffbf1-195b-4b86-b754-dc7c705c3342"
      },
      "source": [
        "# summarize history for accuracy\n",
        "plt.plot(history.history['accuracy'])\n",
        "plt.plot(history.history['val_accuracy'])\n",
        "plt.title('model accuracy')\n",
        "plt.ylabel('accuracy')\n",
        "plt.xlabel('epoch')\n",
        "plt.legend(['train', 'test'], loc='upper left')\n",
        "plt.show()\n"
      ],
      "execution_count": 89,
      "outputs": [
        {
          "output_type": "display_data",
          "data": {
            "image/png": "[encoded data removed]",
            "text/plain": [
              "<Figure size 432x288 with 1 Axes>"
            ]
          },
          "metadata": {
            "tags": [],
            "needs_background": "light"
          }
        }
      ]
    },
    {
      "cell_type": "code",
      "metadata": {
        "colab": {
          "base_uri": "https://localhost:8080/",
          "height": 295
        },
        "id": "CSIkYeRAvG_a",
        "outputId": "24509d85-54d3-4b9b-9e50-217c7650d4ad"
      },
      "source": [
        "# summarize history for loss\n",
        "plt.plot(history.history['loss'])\n",
        "plt.plot(history.history['val_loss'])\n",
        "plt.title('model loss')\n",
        "plt.ylabel('loss')\n",
        "plt.xlabel('epoch')\n",
        "plt.legend(['train', 'test'], loc='upper left')\n",
        "plt.show()"
      ],
      "execution_count": 90,
      "outputs": [
        {
          "output_type": "display_data",
          "data": {
            "image/png": "[encoded data removed]",
            "text/plain": [
              "<Figure size 432x288 with 1 Axes>"
            ]
          },
          "metadata": {
            "tags": [],
            "needs_background": "light"
          }
        }
      ]
    }
  ]
}